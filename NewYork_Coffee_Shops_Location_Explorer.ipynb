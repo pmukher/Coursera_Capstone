{
 "cells": [
  {
   "cell_type": "code",
   "execution_count": 5,
   "metadata": {},
   "outputs": [],
   "source": [
    "import pandas as pd\n",
    "import re"
   ]
  },
  {
   "cell_type": "code",
   "execution_count": 6,
   "metadata": {},
   "outputs": [],
   "source": [
    "data = pd.read_csv(\"NHoodNameCentroids.csv\")"
   ]
  },
  {
   "cell_type": "code",
   "execution_count": 7,
   "metadata": {},
   "outputs": [
    {
     "data": {
      "text/html": [
       "<div>\n",
       "<style scoped>\n",
       "    .dataframe tbody tr th:only-of-type {\n",
       "        vertical-align: middle;\n",
       "    }\n",
       "\n",
       "    .dataframe tbody tr th {\n",
       "        vertical-align: top;\n",
       "    }\n",
       "\n",
       "    .dataframe thead th {\n",
       "        text-align: right;\n",
       "    }\n",
       "</style>\n",
       "<table border=\"1\" class=\"dataframe\">\n",
       "  <thead>\n",
       "    <tr style=\"text-align: right;\">\n",
       "      <th></th>\n",
       "      <th>the_geom</th>\n",
       "      <th>OBJECTID</th>\n",
       "      <th>Name</th>\n",
       "      <th>Stacked</th>\n",
       "      <th>AnnoLine1</th>\n",
       "      <th>AnnoLine2</th>\n",
       "      <th>AnnoLine3</th>\n",
       "      <th>AnnoAngle</th>\n",
       "      <th>Borough</th>\n",
       "    </tr>\n",
       "  </thead>\n",
       "  <tbody>\n",
       "    <tr>\n",
       "      <th>0</th>\n",
       "      <td>POINT (-73.8472005205491 40.89470517661004)</td>\n",
       "      <td>1</td>\n",
       "      <td>Wakefield</td>\n",
       "      <td>1</td>\n",
       "      <td>Wakefield</td>\n",
       "      <td>NaN</td>\n",
       "      <td>NaN</td>\n",
       "      <td>0</td>\n",
       "      <td>Bronx</td>\n",
       "    </tr>\n",
       "    <tr>\n",
       "      <th>1</th>\n",
       "      <td>POINT (-73.82993910812405 40.87429419303015)</td>\n",
       "      <td>2</td>\n",
       "      <td>Co-op City</td>\n",
       "      <td>2</td>\n",
       "      <td>Co-op</td>\n",
       "      <td>City</td>\n",
       "      <td>NaN</td>\n",
       "      <td>0</td>\n",
       "      <td>Bronx</td>\n",
       "    </tr>\n",
       "    <tr>\n",
       "      <th>2</th>\n",
       "      <td>POINT (-73.82780644716419 40.88755567735082)</td>\n",
       "      <td>3</td>\n",
       "      <td>Eastchester</td>\n",
       "      <td>1</td>\n",
       "      <td>Eastchester</td>\n",
       "      <td>NaN</td>\n",
       "      <td>NaN</td>\n",
       "      <td>0</td>\n",
       "      <td>Bronx</td>\n",
       "    </tr>\n",
       "    <tr>\n",
       "      <th>3</th>\n",
       "      <td>POINT (-73.90564259591689 40.895437426903875)</td>\n",
       "      <td>4</td>\n",
       "      <td>Fieldston</td>\n",
       "      <td>1</td>\n",
       "      <td>Fieldston</td>\n",
       "      <td>NaN</td>\n",
       "      <td>NaN</td>\n",
       "      <td>0</td>\n",
       "      <td>Bronx</td>\n",
       "    </tr>\n",
       "    <tr>\n",
       "      <th>4</th>\n",
       "      <td>POINT (-73.91258546108577 40.89083449389134)</td>\n",
       "      <td>5</td>\n",
       "      <td>Riverdale</td>\n",
       "      <td>1</td>\n",
       "      <td>Riverdale</td>\n",
       "      <td>NaN</td>\n",
       "      <td>NaN</td>\n",
       "      <td>0</td>\n",
       "      <td>Bronx</td>\n",
       "    </tr>\n",
       "  </tbody>\n",
       "</table>\n",
       "</div>"
      ],
      "text/plain": [
       "                                        the_geom  OBJECTID         Name  \\\n",
       "0    POINT (-73.8472005205491 40.89470517661004)         1    Wakefield   \n",
       "1   POINT (-73.82993910812405 40.87429419303015)         2   Co-op City   \n",
       "2   POINT (-73.82780644716419 40.88755567735082)         3  Eastchester   \n",
       "3  POINT (-73.90564259591689 40.895437426903875)         4    Fieldston   \n",
       "4   POINT (-73.91258546108577 40.89083449389134)         5    Riverdale   \n",
       "\n",
       "   Stacked    AnnoLine1 AnnoLine2 AnnoLine3  AnnoAngle Borough  \n",
       "0        1    Wakefield       NaN       NaN          0   Bronx  \n",
       "1        2        Co-op      City       NaN          0   Bronx  \n",
       "2        1  Eastchester       NaN       NaN          0   Bronx  \n",
       "3        1    Fieldston       NaN       NaN          0   Bronx  \n",
       "4        1    Riverdale       NaN       NaN          0   Bronx  "
      ]
     },
     "execution_count": 7,
     "metadata": {},
     "output_type": "execute_result"
    }
   ],
   "source": [
    "data.head()"
   ]
  },
  {
   "cell_type": "code",
   "execution_count": 8,
   "metadata": {},
   "outputs": [
    {
     "data": {
      "text/plain": [
       "the_geom     object\n",
       "OBJECTID      int64\n",
       "Name         object\n",
       "Stacked       int64\n",
       "AnnoLine1    object\n",
       "AnnoLine2    object\n",
       "AnnoLine3    object\n",
       "AnnoAngle     int64\n",
       "Borough      object\n",
       "latitude     object\n",
       "longitude    object\n",
       "dtype: object"
      ]
     },
     "execution_count": 8,
     "metadata": {},
     "output_type": "execute_result"
    }
   ],
   "source": [
    "data['latitude'] = '0'\n",
    "data['longitude'] = '0'\n",
    "data.dtypes"
   ]
  },
  {
   "cell_type": "code",
   "execution_count": 9,
   "metadata": {},
   "outputs": [
    {
     "name": "stderr",
     "output_type": "stream",
     "text": [
      "/usr/local/lib/python3.7/site-packages/ipykernel_launcher.py:4: SettingWithCopyWarning: \n",
      "A value is trying to be set on a copy of a slice from a DataFrame\n",
      "\n",
      "See the caveats in the documentation: http://pandas.pydata.org/pandas-docs/stable/user_guide/indexing.html#returning-a-view-versus-a-copy\n",
      "  after removing the cwd from sys.path.\n",
      "/usr/local/lib/python3.7/site-packages/ipykernel_launcher.py:5: SettingWithCopyWarning: \n",
      "A value is trying to be set on a copy of a slice from a DataFrame\n",
      "\n",
      "See the caveats in the documentation: http://pandas.pydata.org/pandas-docs/stable/user_guide/indexing.html#returning-a-view-versus-a-copy\n",
      "  \"\"\"\n"
     ]
    },
    {
     "data": {
      "text/html": [
       "<div>\n",
       "<style scoped>\n",
       "    .dataframe tbody tr th:only-of-type {\n",
       "        vertical-align: middle;\n",
       "    }\n",
       "\n",
       "    .dataframe tbody tr th {\n",
       "        vertical-align: top;\n",
       "    }\n",
       "\n",
       "    .dataframe thead th {\n",
       "        text-align: right;\n",
       "    }\n",
       "</style>\n",
       "<table border=\"1\" class=\"dataframe\">\n",
       "  <thead>\n",
       "    <tr style=\"text-align: right;\">\n",
       "      <th></th>\n",
       "      <th>the_geom</th>\n",
       "      <th>OBJECTID</th>\n",
       "      <th>Name</th>\n",
       "      <th>Stacked</th>\n",
       "      <th>AnnoLine1</th>\n",
       "      <th>AnnoLine2</th>\n",
       "      <th>AnnoLine3</th>\n",
       "      <th>AnnoAngle</th>\n",
       "      <th>Borough</th>\n",
       "      <th>latitude</th>\n",
       "      <th>longitude</th>\n",
       "    </tr>\n",
       "  </thead>\n",
       "  <tbody>\n",
       "    <tr>\n",
       "      <th>0</th>\n",
       "      <td>POINT (-73.8472005205491 40.89470517661004)</td>\n",
       "      <td>1</td>\n",
       "      <td>Wakefield</td>\n",
       "      <td>1</td>\n",
       "      <td>Wakefield</td>\n",
       "      <td>NaN</td>\n",
       "      <td>NaN</td>\n",
       "      <td>0</td>\n",
       "      <td>Bronx</td>\n",
       "      <td>40.89470517661004</td>\n",
       "      <td>-73.8472005205491</td>\n",
       "    </tr>\n",
       "    <tr>\n",
       "      <th>1</th>\n",
       "      <td>POINT (-73.82993910812405 40.87429419303015)</td>\n",
       "      <td>2</td>\n",
       "      <td>Co-op City</td>\n",
       "      <td>2</td>\n",
       "      <td>Co-op</td>\n",
       "      <td>City</td>\n",
       "      <td>NaN</td>\n",
       "      <td>0</td>\n",
       "      <td>Bronx</td>\n",
       "      <td>40.87429419303015</td>\n",
       "      <td>-73.82993910812405</td>\n",
       "    </tr>\n",
       "    <tr>\n",
       "      <th>2</th>\n",
       "      <td>POINT (-73.82780644716419 40.88755567735082)</td>\n",
       "      <td>3</td>\n",
       "      <td>Eastchester</td>\n",
       "      <td>1</td>\n",
       "      <td>Eastchester</td>\n",
       "      <td>NaN</td>\n",
       "      <td>NaN</td>\n",
       "      <td>0</td>\n",
       "      <td>Bronx</td>\n",
       "      <td>40.88755567735082</td>\n",
       "      <td>-73.82780644716419</td>\n",
       "    </tr>\n",
       "    <tr>\n",
       "      <th>3</th>\n",
       "      <td>POINT (-73.90564259591689 40.895437426903875)</td>\n",
       "      <td>4</td>\n",
       "      <td>Fieldston</td>\n",
       "      <td>1</td>\n",
       "      <td>Fieldston</td>\n",
       "      <td>NaN</td>\n",
       "      <td>NaN</td>\n",
       "      <td>0</td>\n",
       "      <td>Bronx</td>\n",
       "      <td>40.895437426903875</td>\n",
       "      <td>-73.90564259591689</td>\n",
       "    </tr>\n",
       "    <tr>\n",
       "      <th>4</th>\n",
       "      <td>POINT (-73.91258546108577 40.89083449389134)</td>\n",
       "      <td>5</td>\n",
       "      <td>Riverdale</td>\n",
       "      <td>1</td>\n",
       "      <td>Riverdale</td>\n",
       "      <td>NaN</td>\n",
       "      <td>NaN</td>\n",
       "      <td>0</td>\n",
       "      <td>Bronx</td>\n",
       "      <td>40.89083449389134</td>\n",
       "      <td>-73.91258546108577</td>\n",
       "    </tr>\n",
       "  </tbody>\n",
       "</table>\n",
       "</div>"
      ],
      "text/plain": [
       "                                        the_geom  OBJECTID         Name  \\\n",
       "0    POINT (-73.8472005205491 40.89470517661004)         1    Wakefield   \n",
       "1   POINT (-73.82993910812405 40.87429419303015)         2   Co-op City   \n",
       "2   POINT (-73.82780644716419 40.88755567735082)         3  Eastchester   \n",
       "3  POINT (-73.90564259591689 40.895437426903875)         4    Fieldston   \n",
       "4   POINT (-73.91258546108577 40.89083449389134)         5    Riverdale   \n",
       "\n",
       "   Stacked    AnnoLine1 AnnoLine2 AnnoLine3  AnnoAngle Borough  \\\n",
       "0        1    Wakefield       NaN       NaN          0   Bronx   \n",
       "1        2        Co-op      City       NaN          0   Bronx   \n",
       "2        1  Eastchester       NaN       NaN          0   Bronx   \n",
       "3        1    Fieldston       NaN       NaN          0   Bronx   \n",
       "4        1    Riverdale       NaN       NaN          0   Bronx   \n",
       "\n",
       "             latitude           longitude  \n",
       "0   40.89470517661004   -73.8472005205491  \n",
       "1   40.87429419303015  -73.82993910812405  \n",
       "2   40.88755567735082  -73.82780644716419  \n",
       "3  40.895437426903875  -73.90564259591689  \n",
       "4   40.89083449389134  -73.91258546108577  "
      ]
     },
     "execution_count": 9,
     "metadata": {},
     "output_type": "execute_result"
    }
   ],
   "source": [
    "for index, row in data.iterrows():\n",
    "    lat_long = re.search('POINT \\((.+?)\\)',  row['the_geom'])\n",
    "    if lat_long:\n",
    "        data['latitude'][index] = lat_long.group(1).split(' ')[1]\n",
    "        data['longitude'][index] = lat_long.group(1).split(' ')[0]\n",
    "data.head()"
   ]
  },
  {
   "cell_type": "code",
   "execution_count": 10,
   "metadata": {},
   "outputs": [],
   "source": [
    "manhattan_data = data[data['Borough'] == 'Manhattan'].reset_index(drop=True)\n",
    "drop_columns = ['the_geom', 'OBJECTID', 'Stacked', 'AnnoLine1', 'AnnoLine2', 'AnnoLine3', 'AnnoAngle']\n",
    "for col in drop_columns:\n",
    "    del manhattan_data[col]"
   ]
  },
  {
   "cell_type": "code",
   "execution_count": 63,
   "metadata": {},
   "outputs": [
    {
     "data": {
      "text/html": [
       "<div>\n",
       "<style scoped>\n",
       "    .dataframe tbody tr th:only-of-type {\n",
       "        vertical-align: middle;\n",
       "    }\n",
       "\n",
       "    .dataframe tbody tr th {\n",
       "        vertical-align: top;\n",
       "    }\n",
       "\n",
       "    .dataframe thead th {\n",
       "        text-align: right;\n",
       "    }\n",
       "</style>\n",
       "<table border=\"1\" class=\"dataframe\">\n",
       "  <thead>\n",
       "    <tr style=\"text-align: right;\">\n",
       "      <th></th>\n",
       "      <th>Name</th>\n",
       "      <th>Borough</th>\n",
       "      <th>latitude</th>\n",
       "      <th>longitude</th>\n",
       "    </tr>\n",
       "  </thead>\n",
       "  <tbody>\n",
       "    <tr>\n",
       "      <th>0</th>\n",
       "      <td>Marble Hill</td>\n",
       "      <td>Manhattan</td>\n",
       "      <td>40.87655077879968</td>\n",
       "      <td>-73.91065965862988</td>\n",
       "    </tr>\n",
       "    <tr>\n",
       "      <th>1</th>\n",
       "      <td>Chinatown</td>\n",
       "      <td>Manhattan</td>\n",
       "      <td>40.715618422314364</td>\n",
       "      <td>-73.99427936255985</td>\n",
       "    </tr>\n",
       "    <tr>\n",
       "      <th>2</th>\n",
       "      <td>Washington Heights</td>\n",
       "      <td>Manhattan</td>\n",
       "      <td>40.85190252555309</td>\n",
       "      <td>-73.93690027985242</td>\n",
       "    </tr>\n",
       "    <tr>\n",
       "      <th>3</th>\n",
       "      <td>Inwood</td>\n",
       "      <td>Manhattan</td>\n",
       "      <td>40.86768396449919</td>\n",
       "      <td>-73.92121042203905</td>\n",
       "    </tr>\n",
       "    <tr>\n",
       "      <th>4</th>\n",
       "      <td>Hamilton Heights</td>\n",
       "      <td>Manhattan</td>\n",
       "      <td>40.82360428481197</td>\n",
       "      <td>-73.94968791883373</td>\n",
       "    </tr>\n",
       "  </tbody>\n",
       "</table>\n",
       "</div>"
      ],
      "text/plain": [
       "                 Name    Borough            latitude           longitude\n",
       "0         Marble Hill  Manhattan   40.87655077879968  -73.91065965862988\n",
       "1           Chinatown  Manhattan  40.715618422314364  -73.99427936255985\n",
       "2  Washington Heights  Manhattan   40.85190252555309  -73.93690027985242\n",
       "3              Inwood  Manhattan   40.86768396449919  -73.92121042203905\n",
       "4    Hamilton Heights  Manhattan   40.82360428481197  -73.94968791883373"
      ]
     },
     "execution_count": 63,
     "metadata": {},
     "output_type": "execute_result"
    }
   ],
   "source": [
    "manhattan_data.head()"
   ]
  },
  {
   "cell_type": "code",
   "execution_count": 12,
   "metadata": {},
   "outputs": [
    {
     "name": "stdout",
     "output_type": "stream",
     "text": [
      "Requirement already satisfied: geopy in /usr/local/lib/python3.7/site-packages (1.20.0)\n",
      "Requirement already satisfied: geographiclib<2,>=1.49 in /usr/local/lib/python3.7/site-packages (from geopy) (1.50)\n",
      "Note: you may need to restart the kernel to use updated packages.\n"
     ]
    }
   ],
   "source": [
    "pip install geopy"
   ]
  },
  {
   "cell_type": "code",
   "execution_count": 13,
   "metadata": {},
   "outputs": [],
   "source": [
    "from geopy.geocoders import Nominatim"
   ]
  },
  {
   "cell_type": "code",
   "execution_count": 14,
   "metadata": {},
   "outputs": [
    {
     "name": "stdout",
     "output_type": "stream",
     "text": [
      "The geograpical coordinate of Manhattan are 40.7896239, -73.9598939.\n"
     ]
    }
   ],
   "source": [
    "address = 'Manhattan, NY'\n",
    "geolocator = Nominatim(user_agent=\"ny_explorer\")\n",
    "location = geolocator.geocode(address)\n",
    "latitude = location.latitude\n",
    "longitude = location.longitude\n",
    "print('The geograpical coordinate of Manhattan are {}, {}.'.format(latitude, longitude))"
   ]
  },
  {
   "cell_type": "code",
   "execution_count": 24,
   "metadata": {},
   "outputs": [],
   "source": [
    "CLIENT_ID = 'C1UYVLF4RL5AWWT22ISOZIFGKGELWO3MKB345KNQVCAPKYX3'\n",
    "CLIENT_SECRET = 'HPP5M3BSQE3DGNEPI4HHIK5LHNWAV0FIW23ZMDQWBTBM5M0H'\n",
    "LIMIT = 10000\n",
    "RADIUS = 500\n",
    "VERSION = '20180605'"
   ]
  },
  {
   "cell_type": "code",
   "execution_count": 25,
   "metadata": {},
   "outputs": [],
   "source": [
    "import requests"
   ]
  },
  {
   "cell_type": "code",
   "execution_count": 26,
   "metadata": {},
   "outputs": [],
   "source": [
    "def getNearbyVenues(names, latitudes, longitudes, radius=500):\n",
    "    \n",
    "    venues_list=[]\n",
    "    for name, lat, lng in zip(names, latitudes, longitudes):\n",
    "        print(name)\n",
    "            \n",
    "        # create the API request URL\n",
    "        url = 'https://api.foursquare.com/v2/venues/explore?&client_id={}&client_secret={}&v={}&ll={},{}&radius={}&limit={}'.format(\n",
    "            CLIENT_ID, \n",
    "            CLIENT_SECRET, \n",
    "            VERSION, \n",
    "            lat, \n",
    "            lng, \n",
    "            radius, \n",
    "            LIMIT)\n",
    "            \n",
    "        # make the GET request\n",
    "        results = requests.get(url).json()[\"response\"]['groups'][0]['items']\n",
    "        \n",
    "        # return only relevant information for each nearby venue\n",
    "        venues_list.append([(\n",
    "            name, \n",
    "            lat, \n",
    "            lng, \n",
    "            v['venue']['name'], \n",
    "            v['venue']['location']['lat'], \n",
    "            v['venue']['location']['lng'],  \n",
    "            v['venue']['categories'][0]['name']) for v in results])\n",
    "\n",
    "    nearby_venues = pd.DataFrame([item for venue_list in venues_list for item in venue_list])\n",
    "    nearby_venues.columns = ['Neighborhood', \n",
    "                  'Neighborhood Latitude', \n",
    "                  'Neighborhood Longitude', \n",
    "                  'Venue', \n",
    "                  'Venue Latitude', \n",
    "                  'Venue Longitude', \n",
    "                  'Venue Category']\n",
    "    \n",
    "    return(nearby_venues)"
   ]
  },
  {
   "cell_type": "code",
   "execution_count": 27,
   "metadata": {},
   "outputs": [
    {
     "name": "stdout",
     "output_type": "stream",
     "text": [
      "Marble Hill\n",
      "Chinatown\n",
      "Washington Heights\n",
      "Inwood\n",
      "Hamilton Heights\n",
      "Manhattanville\n",
      "Central Harlem\n",
      "East Harlem\n",
      "Upper East Side\n",
      "Yorkville\n",
      "Lenox Hill\n",
      "Roosevelt Island\n",
      "Upper West Side\n",
      "Lincoln Square\n",
      "Clinton\n",
      "Midtown\n",
      "Murray Hill\n",
      "Chelsea\n",
      "Greenwich Village\n",
      "East Village\n",
      "Lower East Side\n",
      "Tribeca\n",
      "Little Italy\n",
      "Soho\n",
      "West Village\n",
      "Manhattan Valley\n",
      "Morningside Heights\n",
      "Gramercy\n",
      "Battery Park City\n",
      "Financial District\n",
      "Carnegie Hill\n",
      "Noho\n",
      "Civic Center\n",
      "Midtown South\n",
      "Sutton Place\n",
      "Turtle Bay\n",
      "Tudor City\n",
      "Stuyvesant Town\n",
      "Flatiron\n"
     ]
    }
   ],
   "source": [
    "manhattan_venues = getNearbyVenues(names=manhattan_data['Name'],\n",
    "                                   latitudes=manhattan_data['latitude'],\n",
    "                                   longitudes=manhattan_data['longitude']\n",
    "                                  )"
   ]
  },
  {
   "cell_type": "code",
   "execution_count": 28,
   "metadata": {},
   "outputs": [
    {
     "data": {
      "text/html": [
       "<div>\n",
       "<style scoped>\n",
       "    .dataframe tbody tr th:only-of-type {\n",
       "        vertical-align: middle;\n",
       "    }\n",
       "\n",
       "    .dataframe tbody tr th {\n",
       "        vertical-align: top;\n",
       "    }\n",
       "\n",
       "    .dataframe thead th {\n",
       "        text-align: right;\n",
       "    }\n",
       "</style>\n",
       "<table border=\"1\" class=\"dataframe\">\n",
       "  <thead>\n",
       "    <tr style=\"text-align: right;\">\n",
       "      <th></th>\n",
       "      <th>Neighborhood</th>\n",
       "      <th>Neighborhood Latitude</th>\n",
       "      <th>Neighborhood Longitude</th>\n",
       "      <th>Venue</th>\n",
       "      <th>Venue Latitude</th>\n",
       "      <th>Venue Longitude</th>\n",
       "      <th>Venue Category</th>\n",
       "    </tr>\n",
       "  </thead>\n",
       "  <tbody>\n",
       "    <tr>\n",
       "      <th>0</th>\n",
       "      <td>Marble Hill</td>\n",
       "      <td>40.87655077879968</td>\n",
       "      <td>-73.91065965862988</td>\n",
       "      <td>Arturo's</td>\n",
       "      <td>40.874412</td>\n",
       "      <td>-73.910271</td>\n",
       "      <td>Pizza Place</td>\n",
       "    </tr>\n",
       "    <tr>\n",
       "      <th>1</th>\n",
       "      <td>Marble Hill</td>\n",
       "      <td>40.87655077879968</td>\n",
       "      <td>-73.91065965862988</td>\n",
       "      <td>Bikram Yoga</td>\n",
       "      <td>40.876844</td>\n",
       "      <td>-73.906204</td>\n",
       "      <td>Yoga Studio</td>\n",
       "    </tr>\n",
       "    <tr>\n",
       "      <th>2</th>\n",
       "      <td>Marble Hill</td>\n",
       "      <td>40.87655077879968</td>\n",
       "      <td>-73.91065965862988</td>\n",
       "      <td>Tibbett Diner</td>\n",
       "      <td>40.880404</td>\n",
       "      <td>-73.908937</td>\n",
       "      <td>Diner</td>\n",
       "    </tr>\n",
       "    <tr>\n",
       "      <th>3</th>\n",
       "      <td>Marble Hill</td>\n",
       "      <td>40.87655077879968</td>\n",
       "      <td>-73.91065965862988</td>\n",
       "      <td>Starbucks</td>\n",
       "      <td>40.877531</td>\n",
       "      <td>-73.905582</td>\n",
       "      <td>Coffee Shop</td>\n",
       "    </tr>\n",
       "    <tr>\n",
       "      <th>4</th>\n",
       "      <td>Marble Hill</td>\n",
       "      <td>40.87655077879968</td>\n",
       "      <td>-73.91065965862988</td>\n",
       "      <td>Dunkin'</td>\n",
       "      <td>40.877136</td>\n",
       "      <td>-73.906666</td>\n",
       "      <td>Donut Shop</td>\n",
       "    </tr>\n",
       "  </tbody>\n",
       "</table>\n",
       "</div>"
      ],
      "text/plain": [
       "  Neighborhood Neighborhood Latitude Neighborhood Longitude          Venue  \\\n",
       "0  Marble Hill     40.87655077879968     -73.91065965862988       Arturo's   \n",
       "1  Marble Hill     40.87655077879968     -73.91065965862988    Bikram Yoga   \n",
       "2  Marble Hill     40.87655077879968     -73.91065965862988  Tibbett Diner   \n",
       "3  Marble Hill     40.87655077879968     -73.91065965862988      Starbucks   \n",
       "4  Marble Hill     40.87655077879968     -73.91065965862988        Dunkin'   \n",
       "\n",
       "   Venue Latitude  Venue Longitude Venue Category  \n",
       "0       40.874412       -73.910271    Pizza Place  \n",
       "1       40.876844       -73.906204    Yoga Studio  \n",
       "2       40.880404       -73.908937          Diner  \n",
       "3       40.877531       -73.905582    Coffee Shop  \n",
       "4       40.877136       -73.906666     Donut Shop  "
      ]
     },
     "execution_count": 28,
     "metadata": {},
     "output_type": "execute_result"
    }
   ],
   "source": [
    "manhattan_venues.head()"
   ]
  },
  {
   "cell_type": "code",
   "execution_count": 38,
   "metadata": {},
   "outputs": [
    {
     "name": "stdout",
     "output_type": "stream",
     "text": [
      "['Resort', 'Rest Area', 'Soup Place', 'Shipping Store', 'English Restaurant', 'Fast Food Restaurant', 'Moving Target', 'Israeli Restaurant', 'Vegetarian / Vegan Restaurant', 'Bus Line', 'Food Truck', 'Bike Shop', 'Trail', 'Ski Shop', 'Bike Trail', 'Medical Center', 'Nightclub', 'Music Venue', 'Skating Rink', 'Fountain', 'Wine Bar', 'Boat or Ferry', 'African Restaurant', 'Used Bookstore', 'Dumpling Restaurant', 'Garden Center', 'Bar', 'Non-Profit', 'Health Food Store', 'Rock Club', 'Health & Beauty Service', 'Coworking Space', 'Outdoors & Recreation', 'Bank', 'Burger Joint', 'Arcade', 'Jewish Restaurant', 'Vietnamese Restaurant', 'Breakfast Spot', 'Food & Drink Shop', 'Beer Store', 'Golf Course', 'Yoga Studio', 'Italian Restaurant', 'Playground', 'Miscellaneous Shop', 'Antique Shop', 'Gymnastics Gym', 'Bike Rental / Bike Share', 'Grocery Store', 'Movie Theater', 'Hobby Shop', 'Dry Cleaner', 'Sculpture Garden', 'Office', 'Ramen Restaurant', 'Rock Climbing Spot', 'Soccer Field', 'Southern / Soul Food Restaurant', 'Japanese Restaurant', 'Tourist Information Center', 'Big Box Store', 'Gastropub', 'BBQ Joint', 'Karaoke Bar', 'Shoe Store', 'Brazilian Restaurant', 'Video Store', 'Theater', 'Farmers Market', 'Indie Movie Theater', 'German Restaurant', 'Asian Restaurant', 'Park', 'Himalayan Restaurant', 'American Restaurant', 'Creperie', 'Caribbean Restaurant', 'Supplement Shop', 'Pet Store', 'Kosher Restaurant', 'Sushi Restaurant', 'Ethiopian Restaurant', 'Persian Restaurant', 'College Bookstore', 'Latin American Restaurant', 'Roof Deck', 'Food Court', 'Boutique', 'Donut Shop', 'Department Store', 'Jazz Club', 'Dim Sum Restaurant', 'Sporting Goods Shop', 'Hotel', \"Women's Store\", 'Cafeteria', 'Liquor Store', 'Hot Dog Joint', 'Cultural Center', 'Clothing Store', 'Flower Shop', 'Cambodian Restaurant', 'Tree', 'Opera House', 'Christmas Market', 'Baby Store', 'Pool', 'Mexican Restaurant', 'School', 'Memorial Site', 'Public Art', 'Gift Shop', 'Scandinavian Restaurant', 'Spa', 'Kids Store', 'Weight Loss Center', 'Seafood Restaurant', 'Sports Club', 'Australian Restaurant', 'Soba Restaurant', 'Pizza Place', 'Discount Store', 'Optical Shop', 'Hostel', 'Garden', 'Venezuelan Restaurant', 'Veterinarian', 'Laundry Service', 'Czech Restaurant', 'Afghan Restaurant', 'Pie Shop', \"Doctor's Office\", 'Gaming Cafe', 'Indian Restaurant', 'Bistro', 'Athletics & Sports', 'Chocolate Shop', 'Leather Goods Store', 'Toy / Game Store', 'Lingerie Store', 'Fried Chicken Joint', 'Volleyball Court', 'Plaza', 'Fish Market', 'Tailor Shop', 'Tiki Bar', 'Cosmetics Shop', 'Library', 'Moroccan Restaurant', 'Sake Bar', 'Spiritual Center', 'Juice Bar', 'Beer Garden', 'Flea Market', 'Dance Studio', 'Lounge', 'Arts & Crafts Store', 'Hotel Bar', 'Design Studio', 'Gym / Fitness Center', 'Street Art', 'Concert Hall', 'Tapas Restaurant', 'Social Club', 'Bridal Shop', 'Kebab Restaurant', 'Convenience Store', 'Pub', 'Duty-free Shop', 'Salad Place', 'Hardware Store', 'Strip Club', 'Photography Studio', 'Theme Park Ride / Attraction', 'Diner', 'Thrift / Vintage Store', 'Gay Bar', 'Basketball Court', 'Szechuan Restaurant', 'Board Shop', 'Bed & Breakfast', 'Financial or Legal Service', 'Tennis Court', 'Market', 'Mobile Phone Shop', 'Theme Restaurant', 'Shanghai Restaurant', 'Speakeasy', 'Food Stand', 'Irish Pub', 'Taiwanese Restaurant', 'Metro Station', 'Deli / Bodega', 'Heliport', 'Dog Run', 'Mediterranean Restaurant', 'Club House', 'Paella Restaurant', 'Cheese Shop', 'Skate Park', 'Bagel Shop', 'Baseball Field', 'Record Shop', 'Monument / Landmark', 'Sandwich Place', 'Wings Joint', 'Harbor / Marina', 'Bus Station', 'Hotpot Restaurant', 'Udon Restaurant', 'Spanish Restaurant', 'Auditorium', 'Noodle House', 'Salon / Barbershop', 'Historic Site', 'Austrian Restaurant', 'Accessories Store', 'Dessert Shop', 'Whisky Bar', 'Filipino Restaurant', 'Greek Restaurant', 'Wine Shop', 'History Museum', 'Nail Salon', 'Gas Station', 'New American Restaurant', 'Climbing Gym', 'Beer Bar', 'Snack Place', 'Smoothie Shop', 'Steakhouse', 'Paper / Office Supplies Store', 'Coffee Shop', 'South Indian Restaurant', 'Chinese Restaurant', 'Museum', 'Caucasian Restaurant', 'Russian Restaurant', 'Butcher', 'Shopping Mall', 'Furniture / Home Store', 'Café', 'Modern European Restaurant', 'Restaurant', 'Pet Service', 'College Arts Building', 'College Theater', 'Burrito Place', 'Bookstore', 'Korean Restaurant', 'Music School', 'Kitchen Supply Store', 'Poke Place', 'Malay Restaurant', 'Cuban Restaurant', 'Massage Studio', \"Men's Store\", 'Falafel Restaurant', 'Art Museum', 'Physical Therapist', 'Outdoor Supply Store', 'General Entertainment', 'French Restaurant', 'Cupcake Shop', 'Rental Car Location', 'Scenic Lookout', 'Comedy Club', 'Pharmacy', 'Waterfront', 'Smoke Shop', 'Bakery', 'Japanese Curry Restaurant', 'Pet Café', 'Tea Room', 'Gym Pool', 'Candy Store', 'Dive Bar', 'Video Game Store', 'Hawaiian Restaurant', 'Jewelry Store', 'Circus', 'Community Center', 'Cooking School', 'Empanada Restaurant', 'Indie Theater', 'Lebanese Restaurant', 'Outdoor Sculpture', 'Frozen Yogurt Shop', 'Performing Arts Venue', 'Exhibit', 'College Academic Building', 'Argentinian Restaurant', 'Daycare', 'Sports Bar', 'College Cafeteria', 'Residential Building (Apartment / Condo)', 'Organic Grocery', 'Supermarket', 'Boxing Gym', 'Adult Boutique', 'Drugstore', 'Middle Eastern Restaurant', 'Pilates Studio', 'Art Gallery', 'Gym', 'Ice Cream Shop', 'Peruvian Restaurant', 'Cocktail Bar', 'Gourmet Shop', 'Arepa Restaurant', 'High School', 'Cycle Studio', 'Taco Place', 'Swiss Restaurant', 'Molecular Gastronomy Restaurant', 'Tennis Stadium', 'Recreation Center', 'Turkish Restaurant', 'Martial Arts Dojo', 'Building', 'Piano Bar', 'Thai Restaurant', 'Tattoo Parlor', 'Newsstand', 'Eastern European Restaurant', 'Hookah Bar', 'Event Space', 'Electronics Store', 'Bubble Tea Shop', 'Bridge']\n"
     ]
    }
   ],
   "source": [
    "# Examiing the venue category \n",
    "venue_categories = list(set(manhattan_venues['Venue Category']))\n",
    "print(venue_categories)\n"
   ]
  },
  {
   "cell_type": "code",
   "execution_count": 40,
   "metadata": {},
   "outputs": [
    {
     "name": "stdout",
     "output_type": "stream",
     "text": [
      "['Medical Center', 'Garden Center', 'Office', 'Tourist Information Center', 'College Bookstore', 'Cafeteria', 'Cultural Center', 'School', 'Weight Loss Center', \"Doctor's Office\", 'Spiritual Center', 'Gym / Fitness Center', 'Steakhouse', 'Paper / Office Supplies Store', 'Coffee Shop', 'Café', 'College Arts Building', 'College Theater', 'Music School', 'Pet Café', 'Tea Room', 'Community Center', 'Cooking School', 'College Academic Building', 'College Cafeteria', 'College Cafeteria', 'High School', 'Recreation Center', 'Bubble Tea Shop']\n"
     ]
    }
   ],
   "source": [
    "sample_categories = ['school', 'college', 'university', 'tea', 'coffee', 'office', 'center', 'cafeteria', 'café']\n",
    "filtered_categories = []\n",
    "for venue in venue_categories:\n",
    "    venue_lower = venue.lower()\n",
    "    for sample_venue in sample_categories:\n",
    "        if sample_venue in venue_lower:\n",
    "            filtered_categories.append(venue)\n",
    "print(filtered_categories)"
   ]
  },
  {
   "cell_type": "code",
   "execution_count": 42,
   "metadata": {},
   "outputs": [],
   "source": [
    "#Filerring out the relevant categories\n",
    "relevant_categories = ['Office', 'College Bookstore', 'Cafeteria', 'School', 'Coffee Shop', 'Café', 'College Arts Building', 'College Theater',  'Music School', 'Tea Room', 'Cooking School','College Academic Building', 'College Cafeteria', 'College Cafeteria', 'High School', 'Bubble Tea Shop'] "
   ]
  },
  {
   "cell_type": "code",
   "execution_count": 47,
   "metadata": {},
   "outputs": [
    {
     "data": {
      "text/plain": [
       "pandas.core.frame.DataFrame"
      ]
     },
     "execution_count": 47,
     "metadata": {},
     "output_type": "execute_result"
    }
   ],
   "source": [
    "manhattan_venues = manhattan_venues[manhattan_venues['Venue Category'].isin(relevant_categories)]\n",
    "type(manhattan_venues)"
   ]
  },
  {
   "cell_type": "code",
   "execution_count": null,
   "metadata": {},
   "outputs": [],
   "source": []
  }
 ],
 "metadata": {
  "kernelspec": {
   "display_name": "Python 3",
   "language": "python",
   "name": "python3"
  },
  "language_info": {
   "codemirror_mode": {
    "name": "ipython",
    "version": 3
   },
   "file_extension": ".py",
   "mimetype": "text/x-python",
   "name": "python",
   "nbconvert_exporter": "python",
   "pygments_lexer": "ipython3",
   "version": "3.7.5"
  }
 },
 "nbformat": 4,
 "nbformat_minor": 2
}
